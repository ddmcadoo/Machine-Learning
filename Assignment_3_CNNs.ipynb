{
 "cells": [
  {
   "cell_type": "markdown",
   "id": "01375c32",
   "metadata": {
    "id": "01375c32"
   },
   "source": [
    "# Assignment 3: Convolutional Neural Networks\n",
    "\n",
    "## DTSC-680: Applied Machine Learning\n",
    "\n",
    "## Name:"
   ]
  },
  {
   "cell_type": "markdown",
   "id": "b249b051",
   "metadata": {
    "id": "b249b051"
   },
   "source": [
    "### Overview\n",
    "\n",
    "The [`CIFAR10` dataset](https://keras.io/api/datasets/cifar10/) contains 50,000 32 $\\times$ 32 colored images of the things listed below. \n",
    "\n",
    "| Label    | Description |\n",
    "| -------- | -------|\n",
    "| 0 | airplane    |\n",
    "| 1 | automobile     |\n",
    "| 2 | bird    |\n",
    "| 3 | cat    |\n",
    "| 4 | deer    |\n",
    "| 5 | dog    |\n",
    "| 6 | frog    |\n",
    "| 7 | horse    |\n",
    "| 8 | ship    |\n",
    "| 9 | truck    |\n",
    "\n",
    "The `base_model` contains a CNN that was trained on over 17,000 CIFAR10 images, none of which contained a horse, ship, or truck. In this assignment, you will use the bottleneck layers of the `base_model`, along with transfer learning to build a network that can classify all 10 categories of the images in the CIFAR10 dataset."
   ]
  },
  {
   "cell_type": "markdown",
   "id": "79ce8065-0981-41dc-b06e-1e52b8a974c8",
   "metadata": {},
   "source": [
    "### Install Tensorflow 2.9.2"
   ]
  },
  {
   "cell_type": "code",
   "execution_count": 1,
   "id": "6f940fab-8cc5-49ab-a18c-f589c92bdf79",
   "metadata": {},
   "outputs": [
    {
     "name": "stdout",
     "output_type": "stream",
     "text": [
      "Requirement already satisfied: pip in /opt/anaconda3/envs/dtsc680/lib/python3.8/site-packages (24.2)\n",
      "Pip updated!\n",
      "TensorFlow version 2.9.2 is already installed.\n",
      "Please restart your kernel to apply the changes.\n"
     ]
    }
   ],
   "source": [
    "# CODE PROVIDED\n",
    "import subprocess\n",
    "import sys\n",
    "from IPython.display import clear_output\n",
    "def update_libraries():\n",
    "    tf_desired_version = \"2.9.2\"\n",
    "\n",
    "    try:\n",
    "        import tensorflow as tf\n",
    "        tf_installed_version = tf.__version__\n",
    "    except ImportError:\n",
    "        tf_installed_version = None\n",
    "\n",
    "    # Update pip to the latest version\n",
    "    subprocess.check_call([sys.executable, '-m', 'pip', 'install', '--upgrade', 'pip'])\n",
    "    print(\"Pip updated!\")\n",
    "    \n",
    "    #Check for the right version\n",
    "    if tf_installed_version != tf_desired_version:\n",
    "        print(f\"Current TensorFlow version: {tf_installed_version}. Installing version {tf_desired_version}...\")\n",
    "        \n",
    "        # Uninstall the current TensorFlow version\n",
    "        subprocess.check_call([sys.executable, '-m', 'pip', 'uninstall', '-y', 'tensorflow'])\n",
    "        \n",
    "        # Install the desired TensorFlow version\n",
    "        subprocess.check_call([sys.executable, '-m', 'pip', 'install', f'tensorflow=={tf_desired_version}'])\n",
    "\n",
    "        clear_output()\n",
    "        print(\"TensorFlow version {tf_desired_version} installed successfully\")\n",
    "        \n",
    "    else:\n",
    "        print(f\"TensorFlow version {tf_desired_version} is already installed.\")    \n",
    "\n",
    "\n",
    "    print(f\"Please restart your kernel to apply the changes.\")\n",
    "    \n",
    "update_libraries()"
   ]
  },
  {
   "cell_type": "code",
   "execution_count": 2,
   "id": "671e354a",
   "metadata": {
    "id": "671e354a"
   },
   "outputs": [],
   "source": [
    "# common imports\n",
    "import numpy as np\n",
    "import pandas as pd"
   ]
  },
  {
   "cell_type": "markdown",
   "id": "824bea7e",
   "metadata": {
    "id": "824bea7e"
   },
   "source": [
    "### Data and Model Prep\n",
    "\n",
    "Load the `base_model` and then run the following cell to load the data."
   ]
  },
  {
   "cell_type": "code",
   "execution_count": 3,
   "id": "8d50001a",
   "metadata": {},
   "outputs": [
    {
     "name": "stderr",
     "output_type": "stream",
     "text": [
      "2024-09-20 09:22:53.787924: I tensorflow/core/platform/cpu_feature_guard.cc:193] This TensorFlow binary is optimized with oneAPI Deep Neural Network Library (oneDNN) to use the following CPU instructions in performance-critical operations:  AVX2 FMA\n",
      "To enable them in other operations, rebuild TensorFlow with the appropriate compiler flags.\n"
     ]
    }
   ],
   "source": [
    "# STUDENTS CODE\n",
    "from tensorflow.keras.models import load_model\n",
    "base_model = load_model('base_model3.h5')"
   ]
  },
  {
   "cell_type": "code",
   "execution_count": 4,
   "id": "e99f1237",
   "metadata": {},
   "outputs": [
    {
     "name": "stdout",
     "output_type": "stream",
     "text": [
      "(32516,)\n",
      "(6512,)\n"
     ]
    }
   ],
   "source": [
    "# CODE PROVIDED -- takes almost 3 minutes to run\n",
    "x_train = np.loadtxt('data/x_train.txt').reshape(32516, 32, 32, 3)\n",
    "y_train = np.loadtxt('data/y_train.txt')\n",
    "x_test = np.loadtxt('data/x_test.txt').reshape(6512, 32, 32, 3)\n",
    "y_test = np.loadtxt('data/y_test.txt')\n",
    "print(y_train.shape)\n",
    "print(y_test.shape)"
   ]
  },
  {
   "cell_type": "markdown",
   "id": "8b8e5e73",
   "metadata": {},
   "source": [
    "Let's test the `base_model`. The below code loads and displays a sample image of a ship from the test dataset. Use the `base_model` to make a prediction about the object contained in the sample image."
   ]
  },
  {
   "cell_type": "code",
   "execution_count": 5,
   "id": "e4ec8309",
   "metadata": {},
   "outputs": [
    {
     "name": "stdout",
     "output_type": "stream",
     "text": [
      "8.0\n"
     ]
    },
    {
     "data": {
      "text/plain": [
       "<matplotlib.image.AxesImage at 0x7f9d65ef2880>"
      ]
     },
     "execution_count": 5,
     "metadata": {},
     "output_type": "execute_result"
    },
    {
     "data": {
      "image/png": "[encoded data removed]",
      "text/plain": [
       "<Figure size 640x480 with 1 Axes>"
      ]
     },
     "metadata": {},
     "output_type": "display_data"
    }
   ],
   "source": [
    "# CODE PROVIDED\n",
    "%matplotlib inline\n",
    "import matplotlib.pyplot as plt\n",
    "x = x_test[0]\n",
    "\n",
    "print(y_test[0])\n",
    "plt.xticks([])\n",
    "plt.yticks([])\n",
    "plt.imshow(x)"
   ]
  },
  {
   "cell_type": "code",
   "execution_count": 6,
   "id": "1221f816",
   "metadata": {},
   "outputs": [
    {
     "name": "stdout",
     "output_type": "stream",
     "text": [
      "1/1 [==============================] - 0s 296ms/step\n"
     ]
    },
    {
     "data": {
      "text/plain": [
       "array([[1.07818075e-01, 8.92128527e-01, 4.90114835e-05, 3.93905611e-06,\n",
       "        2.26635095e-07, 1.69193953e-07, 2.22662488e-09]], dtype=float32)"
      ]
     },
     "execution_count": 6,
     "metadata": {},
     "output_type": "execute_result"
    }
   ],
   "source": [
    "# CODE PROVIDED\n",
    "from tensorflow.keras.preprocessing import image\n",
    "\n",
    "# preprocess the image\n",
    "x = image.img_to_array(x_test[0])\n",
    "x = np.expand_dims(x, axis=0)\n",
    "\n",
    "# STUDENTS CODE\n",
    "y = base_model.predict(x)\n",
    "y"
   ]
  },
  {
   "cell_type": "markdown",
   "id": "00a0ffe1",
   "metadata": {},
   "source": [
    "What does the `base_model` predict that the sample image is? Let's use transfer learning to create a domain-specific model that can classify images of horses, ships, and trucks in addition to the rest of the images that the `base_model` was trained on.\n",
    "\n",
    "The below code extracts the bottleneck layers from the `base_model`."
   ]
  },
  {
   "cell_type": "code",
   "execution_count": 7,
   "id": "a989df97",
   "metadata": {},
   "outputs": [],
   "source": [
    "# CODE PROVIDED\n",
    "from tensorflow.keras.models import Model\n",
    "from tensorflow.keras.models import Sequential\n",
    "from tensorflow.keras.layers import Flatten, Dense, Resizing\n",
    "model = Model(inputs = base_model.layers[0].input, outputs = base_model.layers[3].output)"
   ]
  },
  {
   "cell_type": "markdown",
   "id": "67aeeb92",
   "metadata": {},
   "source": [
    "### Transfer Learning\n",
    "\n",
    "Create the classification layers for transfer learning and train them."
   ]
  },
  {
   "cell_type": "code",
   "execution_count": 8,
   "id": "2d67c0b5",
   "metadata": {},
   "outputs": [
    {
     "name": "stdout",
     "output_type": "stream",
     "text": [
      "1017/1017 [==============================] - 11s 10ms/step\n",
      "204/204 [==============================] - 2s 10ms/step\n"
     ]
    }
   ],
   "source": [
    "# STUDENTS CODE\n",
    "from tensorflow.keras.models import Sequential\n",
    "from tensorflow.keras.layers import Dense, Flatten\n",
    "x_train = base_model.predict(x_train)\n",
    "x_test = base_model.predict(x_test)"
   ]
  },
  {
   "cell_type": "code",
   "execution_count": 13,
   "id": "42f0e989",
   "metadata": {},
   "outputs": [],
   "source": [
    "# STUDENTS CODE\n",
    "#Running all images for feature extraction\n",
    "from tensorflow.keras.layers import Dense, Flatten, Conv2D\n",
    "#Creating classification layers\n",
    "new_model = Sequential()\n",
    "new_model.add(Dense(256, activation='relu',input_shape=(7,)))\n",
    "new_model.add(Dense(10, activation='softmax'))\n",
    "new_model.compile(optimizer='adam', loss='sparse_categorical_crossentropy', metrics=['accuracy'])"
   ]
  },
  {
   "cell_type": "code",
   "execution_count": null,
   "id": "59a60561",
   "metadata": {},
   "outputs": [
    {
     "name": "stdout",
     "output_type": "stream",
     "text": [
      "Epoch 1/10\n",
      "3252/3252 [==============================] - 25s 8ms/step - loss: 1.3005 - accuracy: 0.5038 - val_loss: 1.3070 - val_accuracy: 0.5006\n",
      "Epoch 2/10\n",
      "3252/3252 [==============================] - 24s 7ms/step - loss: 1.2989 - accuracy: 0.5034 - val_loss: 1.3143 - val_accuracy: 0.4937\n",
      "Epoch 3/10\n",
      "3252/3252 [==============================] - 24s 7ms/step - loss: 1.2974 - accuracy: 0.5051 - val_loss: 1.3128 - val_accuracy: 0.4995\n",
      "Epoch 4/10\n",
      "3252/3252 [==============================] - 24s 7ms/step - loss: 1.2955 - accuracy: 0.5053 - val_loss: 1.3087 - val_accuracy: 0.5008\n",
      "Epoch 5/10\n",
      "3252/3252 [==============================] - 25s 8ms/step - loss: 1.2935 - accuracy: 0.5083 - val_loss: 1.3034 - val_accuracy: 0.4983\n",
      "Epoch 6/10\n",
      "3252/3252 [==============================] - 25s 8ms/step - loss: 1.2917 - accuracy: 0.5070 - val_loss: 1.3094 - val_accuracy: 0.4974\n",
      "Epoch 7/10\n",
      "2606/3252 [=======================>......] - ETA: 1:07 - loss: 1.2939 - accuracy: 0.5072"
     ]
    }
   ],
   "source": [
    "# STUDENTS CODE -- takes about 2 minutes to run\n",
    "hist = new_model.fit(x_train, y_train, validation_data=(x_test, y_test), epochs=10, batch_size=10)"
   ]
  },
  {
   "cell_type": "code",
   "execution_count": null,
   "id": "ad6f0fb7-cf58-4812-913e-e93f14136c0d",
   "metadata": {},
   "outputs": [],
   "source": [
    "new_model.output"
   ]
  },
  {
   "cell_type": "markdown",
   "id": "873c9aa0",
   "metadata": {},
   "source": [
    "Plot the training and validation accuracy."
   ]
  },
  {
   "cell_type": "code",
   "execution_count": null,
   "id": "f89b409b",
   "metadata": {
    "scrolled": true
   },
   "outputs": [],
   "source": [
    "# STUDENTS CODE\n",
    "import seaborn as sns\n",
    "\n",
    "sns.set()\n",
    "\n",
    "acc = hist.history['accuracy']\n",
    "val_acc = hist.history['val_accuracy']\n",
    "epochs = range(1, len(acc) + 1)\n",
    "\n",
    "plt.plot(epochs, acc, '-', label='Training Accuracy')\n",
    "plt.plot(epochs, val_acc, ':', label='Validation Accuracy')\n",
    "plt.title('Training and Validation Accuracy')\n",
    "plt.xlabel('Epoch')\n",
    "plt.ylabel('Accuracy')\n",
    "plt.legend(loc='lower right')\n",
    "plt.plot()"
   ]
  },
  {
   "cell_type": "markdown",
   "id": "fbab116c",
   "metadata": {},
   "source": [
    "Check to ensure the new model correctly classifies the sample image of a ship."
   ]
  },
  {
   "cell_type": "code",
   "execution_count": null,
   "id": "fdf42c0c",
   "metadata": {},
   "outputs": [],
   "source": [
    "from tensorflow.keras.preprocessing import image\n",
    "x = x_test[0]\n",
    "\n",
    "x = image.img_to_array(x_test[0])\n",
    "x = np.expand_dims(x, axis=0)"
   ]
  },
  {
   "cell_type": "code",
   "execution_count": null,
   "id": "094e56e7",
   "metadata": {},
   "outputs": [],
   "source": [
    "# STUDENTS CODE\n",
    "y = base_model.predict(x)\n",
    "prediction = new_model.predict(y)\n",
    "\n",
    "for i, label in enumerate(class_labels):\n",
    "    print(f'{label}: {predictions[0][i]}')"
   ]
  },
  {
   "cell_type": "markdown",
   "id": "6bc89645-8f5f-4a74-bc22-2573bdb63d91",
   "metadata": {},
   "source": [
    "### Export Models for codegrade evaluation\n",
    "\n",
    "Export Classification and CNN models"
   ]
  },
  {
   "cell_type": "code",
   "execution_count": null,
   "id": "7324e76c",
   "metadata": {},
   "outputs": [],
   "source": [
    "\n",
    "#export your classification model\n",
    "classification.save('classification_model.h5')\n",
    "\n",
    "#export your CNN model\n",
    "model.save('CNN_model.h5')"
   ]
  }
 ],
 "metadata": {
  "colab": {
   "provenance": []
  },
  "kernelspec": {
   "display_name": "dtsc680",
   "language": "python",
   "name": "dtsc680"
  },
  "language_info": {
   "codemirror_mode": {
    "name": "ipython",
    "version": 3
   },
   "file_extension": ".py",
   "mimetype": "text/x-python",
   "name": "python",
   "nbconvert_exporter": "python",
   "pygments_lexer": "ipython3",
   "version": "3.8.20"
  }
 },
 "nbformat": 4,
 "nbformat_minor": 5
}
